{
 "cells": [
  {
   "cell_type": "code",
   "execution_count": null,
   "metadata": {},
   "outputs": [],
   "source": [
    "using QuantumCollocation\n",
    "using CairoMakie\n",
    "\n",
    "ops = Options()\n",
    "ops.recalc_y = \"yes\"\n",
    "ops.recalc_y_feas_tol = 0.001"
   ]
  },
  {
   "cell_type": "markdown",
   "metadata": {},
   "source": [
    "# Robust control\n",
    "-----\n",
    "\n",
    "Robust control is about being insensitive to *known unknowns*. For example, we might *know* we did a bad job characterizing our qubit frequency. This means we have an operator $\\zeta Z$ hanging around in our model. We *know* $Z$ is where the problem shows up, but $\\zeta$ is *unknown*--we aren't sure how bad things are. Specifically,\n",
    "\\begin{align}\n",
    "    &H(t) = \\zeta Z + \\frac{1}{2} a(t) X \\\\\n",
    "    &H_\\text{control}(t) \n",
    "    = \\frac{1}{2} a(t) X\n",
    "\\end{align}\n"
   ]
  },
  {
   "cell_type": "code",
   "execution_count": null,
   "metadata": {},
   "outputs": [],
   "source": [
    "H_Z = GATES[:Z]\n",
    "H_X = GATES[:X]\n",
    "\n",
    "# X gate\n",
    "U_goal = [0 1; 1 0]\n",
    "\n",
    "ζ = 0.05\n",
    "system = QuantumSystem(ζ * H_Z, [H_X])\n",
    "control_system = QuantumSystem([H_X])"
   ]
  },
  {
   "cell_type": "markdown",
   "metadata": {},
   "source": [
    "## Set up\n",
    "The true dynamics are:\n",
    "\\begin{equation}\n",
    "    i \\frac{d}{dt} U(t) = H(t) U(t).\n",
    "\\end{equation}\n",
    "\n",
    "The control model dynamics are:\n",
    "\\begin{equation}\n",
    "    i \\frac{d}{dt} U_\\text{control}(t) = H_\\text{control}(t) U_\\text{control}(t).\n",
    "\\end{equation}\n",
    "\n",
    "There is a discrepancy $H(t) - H_\\text{control}(t) \\underset{\\text{e.g.}} = \\zeta Z$.\n",
    "\n",
    "## Cost function\n",
    "\n",
    "The usual optimization problem to achieve a gate G involves minimizing infidelity,\n",
    "\\begin{equation}\n",
    "    \\text{infidelity}(U) = 1 - |\\text{Tr}(U^\\dagger G)|^2\n",
    "\\end{equation}\n",
    "\n",
    "But we don't have access to the true dynamics, so\n",
    "\\begin{equation}\n",
    "    \\text{infidelity}(U) = 1 - |\\text{Tr}(U^\\dagger U_\\text{control} U^\\dagger_\\text{control} G)|^2.\n",
    "\\end{equation}\n",
    "\n",
    "If we do a good job optimizing for the gate, $U^\\dagger_\\text{control} \\approx G$. What's leftover is\n",
    "\\begin{equation}\n",
    "    \\text{leftover}(U) = 1 - |\\text{Tr}(U^\\dagger U_\\text{control})|^2.\n",
    "\\end{equation}"
   ]
  },
  {
   "cell_type": "code",
   "execution_count": null,
   "metadata": {},
   "outputs": [],
   "source": [
    "T = 50\n",
    "Δt = 0.2\n",
    "\n",
    "prob = UnitarySmoothPulseProblem(\n",
    "    control_system, U_goal, T, Δt,\n",
    "    hessian_approximation=true, ipopt_options=ops\n",
    ")"
   ]
  },
  {
   "cell_type": "code",
   "execution_count": null,
   "metadata": {},
   "outputs": [],
   "source": [
    "solve!(prob; max_iter=200)\n",
    "println(\"\\nInfidelity: \", 1 - unitary_fidelity(prob))"
   ]
  },
  {
   "cell_type": "markdown",
   "metadata": {},
   "source": [
    "Plot the controls"
   ]
  },
  {
   "cell_type": "code",
   "execution_count": null,
   "metadata": {},
   "outputs": [],
   "source": [
    "f = Figure(resolution = (800, 400))\n",
    "ax = f[1, 1] = Axis(f, xlabel = \"Time\", ylabel = \"Control amplitude\")\n",
    "for row in eachrow(prob.trajectory[:a])\n",
    "    lines!(ax, Δt .* (1:T), row, color=:blue, linewidth=3)\n",
    "    band!(ax, Δt .* (1:T), zeros(size(row)), row, color = (:blue, 0.1))\n",
    "end\n",
    "f"
   ]
  },
  {
   "cell_type": "markdown",
   "metadata": {},
   "source": [
    "Plot the states"
   ]
  },
  {
   "cell_type": "code",
   "execution_count": null,
   "metadata": {},
   "outputs": [],
   "source": [
    "# Check the control system\n",
    "Ũ⃗_rollout = unitary_rollout(prob.trajectory, control_system)\n",
    "\n",
    "f = Figure(resolution = (800, 400))\n",
    "ax = f[1, 1] = Axis(f, xlabel = \"Time\", ylabel = \"Unitary component\")\n",
    "for (row, is_real) in zip(eachrow(Ũ⃗_rollout), operator_to_iso_vec(ones(2, 2)))\n",
    "    lines!(ax, Δt .* (1:T), row, linewidth=5, linestyle = Bool(is_real) ? :solid : :dash)\n",
    "end\n",
    "f"
   ]
  },
  {
   "cell_type": "code",
   "execution_count": null,
   "metadata": {},
   "outputs": [],
   "source": [
    "# What does the drift do to the control result?\n",
    "Ũ⃗_rollout = unitary_rollout(prob.trajectory, system)\n",
    "\n",
    "f = Figure(resolution = (800, 400))\n",
    "ax = f[1, 1] = Axis(f, xlabel = \"Time\", ylabel = \"Unitary component\")\n",
    "for (row, is_real) in zip(eachrow(Ũ⃗_rollout), operator_to_iso_vec(ones(2, 2)))\n",
    "    lines!(ax, Δt .* (1:T), row, linewidth=5, linestyle = Bool(is_real) ? :solid : :dash)\n",
    "end\n",
    "f"
   ]
  },
  {
   "cell_type": "markdown",
   "metadata": {},
   "source": [
    "## Addressing what's leftover\n",
    "\n",
    "The leftover bit is\n",
    "\\begin{equation}\n",
    "    \\text{leftover}(U) = 1 - |\\text{Tr}(U^\\dagger U_\\text{control})|^2.\n",
    "\\end{equation}\n",
    "\n",
    "We can compute the Hamiltonian for $U^\\dagger U_\\text{control}$ by taking the derivative. The result is\n",
    "\\begin{equation}\n",
    "    i\\frac{d}{dt}(U^\\dagger U_\\text{control}) = \\underbrace{U^\\dag (H - H_\\text{control})U}_\\text{new Hamiltonian} (U^\\dagger U_\\text{control})\n",
    "\\end{equation}\n",
    "\n",
    "This new Hamiltonian is useful for doing perturbation theory on the leftovers. The result is a new cost that is small if we are insensitive to our known unknown,\n",
    "\\begin{equation}\n",
    "     \\text{leftover}(U) \\approx \\text{robustness}(U_1, U_2, \\dots U_T) = |\\text{Tr} (\\sum\\nolimits_{t=1}^{T} U_t^\\dag (H - H_\\text{control})U_t)^2|\n",
    "\\end{equation}"
   ]
  },
  {
   "cell_type": "code",
   "execution_count": null,
   "metadata": {},
   "outputs": [],
   "source": [
    "robust_prob = UnitaryRobustnessProblem(\n",
    "    H_Z, prob,\n",
    "    final_fidelity=0.9999, ipopt_options=ops #objective=DefaultObjective()\n",
    ")"
   ]
  },
  {
   "cell_type": "code",
   "execution_count": null,
   "metadata": {},
   "outputs": [],
   "source": [
    "solve!(robust_prob; max_iter=200)\n",
    "println(\"\\nInfidelity: \", 1 - unitary_fidelity(prob))"
   ]
  },
  {
   "cell_type": "markdown",
   "metadata": {},
   "source": [
    "Plot the controls"
   ]
  },
  {
   "cell_type": "code",
   "execution_count": null,
   "metadata": {},
   "outputs": [],
   "source": [
    "f = Figure(resolution = (800, 400))\n",
    "ax = f[1, 1] = Axis(f, xlabel = \"Time\", ylabel = \"Control amplitude\")\n",
    "for row in eachrow(robust_prob.trajectory[:a])\n",
    "    lines!(ax, Δt .* (1:T), row, color=:blue, linewidth=3)\n",
    "    band!(ax, Δt .* (1:T), zeros(size(row)), row, color = (:blue, 0.1))\n",
    "end\n",
    "f"
   ]
  },
  {
   "cell_type": "markdown",
   "metadata": {},
   "source": [
    "It's a piecewise constant solution with respect to acceleration."
   ]
  },
  {
   "cell_type": "code",
   "execution_count": null,
   "metadata": {},
   "outputs": [],
   "source": [
    "f = Figure(resolution = (800, 400))\n",
    "ax = f[1, 1] = Axis(f, xlabel = \"Time\", ylabel = \"Acceleration amplitude\")\n",
    "for row in eachrow(robust_prob.trajectory[:dda])\n",
    "    stairs!(ax, Δt .* (1:T), row, color=:red, linewidth=3, step=:center)\n",
    "    band!(ax, Δt .* (1:T), zeros(size(row)), row, color = (:red, 0.1))\n",
    "end\n",
    "f"
   ]
  },
  {
   "cell_type": "markdown",
   "metadata": {},
   "source": [
    "Plot the states"
   ]
  },
  {
   "cell_type": "code",
   "execution_count": null,
   "metadata": {},
   "outputs": [],
   "source": [
    "# System without drift\n",
    "f = Figure(resolution = (800, 600))\n",
    "for (i, problem) in enumerate([prob, robust_prob])\n",
    "    Ũ⃗_rollout = unitary_rollout(problem.trajectory, control_system)\n",
    "\n",
    "    ax = f[i, 1] = Axis(f, xlabel = \"Time\", ylabel = \"Unitary component\", title=\"Robustness: $(i == 1 ? \"No\" : \"Yes\")\")\n",
    "    for (row, is_real) in zip(eachrow(Ũ⃗_rollout), operator_to_iso_vec(ones(2, 2)))\n",
    "        lines!(ax, Δt .* (1:T), row, linewidth=5, linestyle = Bool(is_real) ? :solid : :dash)\n",
    "    end\n",
    "    println(\"Robustness: $(i == 1 ? \"No\" : \"Yes\")\")\n",
    "    println(\"\\tInfidelity: \", 1 - unitary_fidelity(iso_vec_to_operator(Ũ⃗_rollout[:, end]), U_goal))\n",
    "    println()\n",
    "end\n",
    "f"
   ]
  },
  {
   "cell_type": "code",
   "execution_count": null,
   "metadata": {},
   "outputs": [],
   "source": [
    "# System with drift\n",
    "f = Figure(resolution = (800, 600))\n",
    "for (i, problem) in enumerate([prob, robust_prob])\n",
    "    Ũ⃗_rollout = unitary_rollout(problem.trajectory, system)\n",
    "\n",
    "    ax = f[i, 1] = Axis(f, xlabel = \"Time\", ylabel = \"Unitary component\", title=\"Robustness: $(i == 1 ? \"No\" : \"Yes\")\")\n",
    "    for (row, is_real) in zip(eachrow(Ũ⃗_rollout), operator_to_iso_vec(ones(2, 2)))\n",
    "        lines!(ax, Δt .* (1:T), row, linewidth=5, linestyle = Bool(is_real) ? :solid : :dash)\n",
    "    end\n",
    "    println(\"Robustness: $(i == 1 ? \"No\" : \"Yes\")\")\n",
    "    println(\"\\tInfidelity: \", 1 - unitary_fidelity(iso_vec_to_operator(Ũ⃗_rollout[:, end]), U_goal))\n",
    "    println()\n",
    "end\n",
    "\n",
    "\n",
    "f"
   ]
  },
  {
   "cell_type": "code",
   "execution_count": null,
   "metadata": {},
   "outputs": [],
   "source": []
  }
 ],
 "metadata": {
  "kernelspec": {
   "display_name": "Julia 1.10.0",
   "language": "julia",
   "name": "julia-1.10"
  },
  "language_info": {
   "file_extension": ".jl",
   "mimetype": "application/julia",
   "name": "julia",
   "version": "1.10.0"
  }
 },
 "nbformat": 4,
 "nbformat_minor": 2
}
