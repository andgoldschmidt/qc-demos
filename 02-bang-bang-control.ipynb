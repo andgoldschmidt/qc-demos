{
 "cells": [
  {
   "cell_type": "code",
   "execution_count": null,
   "metadata": {},
   "outputs": [],
   "source": [
    "using QuantumCollocation\n",
    "using NamedTrajectories\n",
    "using CairoMakie"
   ]
  },
  {
   "cell_type": "code",
   "execution_count": null,
   "metadata": {},
   "outputs": [],
   "source": [
    "ops = Options()\n",
    "ops.recalc_y = \"yes\"\n",
    "ops.recalc_y_feas_tol = 0.001\n",
    "ops.print_level = 4\n",
    "ops.hessian_approximation = \"limited-memory\"\n",
    "\n",
    "integrator_kwargs = Dict(\n",
    "    :order => 4,\n",
    "    :autodiff => false,\n",
    "    :calculate_pade_operators_structure => true,\n",
    "    :G_function => nothing\n",
    ")\n",
    "\n",
    "qcp_kwargs = Dict(\n",
    "    :linear_solver => \"mumps\",\n",
    "    :ipopt_options => ops,\n",
    "    :jacobian_structure_file => nothing,\n",
    "    :save_jacobian_structure => false,\n",
    "    :hessian_approximation => true,\n",
    "    :eval_hessian => false,\n",
    "    :evaluator_verbose => false,\n",
    ")\n",
    ";"
   ]
  },
  {
   "cell_type": "markdown",
   "metadata": {},
   "source": [
    "# Bang-bang control\n",
    "------"
   ]
  },
  {
   "cell_type": "markdown",
   "metadata": {},
   "source": [
    "Try to implement an X gate when you have a slow drift.  A simple X rotation won't cut it. "
   ]
  },
  {
   "cell_type": "code",
   "execution_count": null,
   "metadata": {},
   "outputs": [],
   "source": [
    "H_X = GATES[:X]\n",
    "H_Y = GATES[:Y]\n",
    "H_Z = GATES[:Z]\n",
    "\n",
    "# X gate\n",
    "U_goal = [1 1; 1 -1] / √2\n",
    "\n",
    "# control_system = QuantumSystem(0.25 * H_Z, [H_X, H_Y])\n",
    "control_system = QuantumSystem([H_X, H_Y])"
   ]
  },
  {
   "cell_type": "markdown",
   "metadata": {},
   "source": [
    "## Standard Solution"
   ]
  },
  {
   "cell_type": "code",
   "execution_count": null,
   "metadata": {},
   "outputs": [],
   "source": [
    "T = 50\n",
    "Δt = 0.2\n",
    "\n",
    "prob = UnitarySmoothPulseProblem(\n",
    "    control_system, U_goal, T, Δt,\n",
    "    ipopt_options=ops, hessian_approximation=true, free_time=false\n",
    ")"
   ]
  },
  {
   "cell_type": "code",
   "execution_count": null,
   "metadata": {},
   "outputs": [],
   "source": [
    "solve!(prob; max_iter=200)\n",
    "println(\"\\nInfidelity: \", 1 - unitary_fidelity(prob))"
   ]
  },
  {
   "cell_type": "code",
   "execution_count": null,
   "metadata": {},
   "outputs": [],
   "source": [
    "f = Figure(resolution = (800, 400))\n",
    "colors = (:blue, :red)\n",
    "for (i, row) in enumerate(eachrow(prob.trajectory[:a]))\n",
    "    ax = f[1, i] = Axis(f, xlabel = \"Time\", ylabel = \"Control amplitude $(i == 1 ? \"X\" : \"Y\")\")\n",
    "    lines!(ax, Δt .* (1:T), row, color=colors[i], linewidth=3)\n",
    "    band!(ax, Δt .* (1:T), zeros(size(row)), row, color = (colors[i], 0.1))\n",
    "end\n",
    "f"
   ]
  },
  {
   "cell_type": "markdown",
   "metadata": {},
   "source": [
    "## Modified Solution"
   ]
  },
  {
   "cell_type": "markdown",
   "metadata": {},
   "source": [
    "We don't have to control on acceleration. Here is how we build a NamedTrajectory under the hood."
   ]
  },
  {
   "cell_type": "code",
   "execution_count": null,
   "metadata": {},
   "outputs": [],
   "source": [
    "# NamedTrajectory\n",
    "# ===============\n",
    "components = (\n",
    "    Ũ⃗ = prob.trajectory[:Ũ⃗],\n",
    "    a = prob.trajectory[:a],\n",
    "    da = prob.trajectory[:da],\n",
    ")\n",
    "\n",
    "bounds = (\n",
    "    a = ([-0.5, -0.5], [0.5, 0.5]),\n",
    "    da = ([-0.5, -0.5], [0.5, 0.5]),\n",
    ")\n",
    "\n",
    "# Tell the NamedTrajectory what to use as state and what to use as control\n",
    "traj = NamedTrajectory(\n",
    "    components;\n",
    "    controls=(:da,),\n",
    "    timestep=Δt,\n",
    "    bounds=bounds,\n",
    "    initial=prob.trajectory.initial,\n",
    "    final=prob.trajectory.final,\n",
    "    goal=prob.trajectory.goal\n",
    ")\n",
    "\n",
    "# Cost\n",
    "# ====\n",
    "Q = 100.0\n",
    "R = 1e-4\n",
    "\n",
    "J = UnitaryInfidelityObjective(:Ũ⃗, traj, Q)\n",
    "J += QuadraticRegularizer(:a, traj, R)\n",
    "J += QuadraticRegularizer(:da, traj, R)\n",
    "obj, constraint = L1Regularizer(:da, traj, R=[1., 1.])\n",
    "J += obj\n",
    "\n",
    "\n",
    "# Dynamics constraints\n",
    "# ====================\n",
    "integrators = [\n",
    "    UnitaryPadeIntegrator(:Ũ⃗, :a, traj, control_system; integrator_kwargs...),\n",
    "    DerivativeIntegrator(:a, :da, traj),\n",
    "]"
   ]
  },
  {
   "cell_type": "code",
   "execution_count": null,
   "metadata": {},
   "outputs": [],
   "source": [
    "velocity_prob = QuantumControlProblem(\n",
    "    control_system, traj, J, integrators;\n",
    "    constraints=AbstractConstraint[constraint],\n",
    "    qcp_kwargs...\n",
    ")"
   ]
  },
  {
   "cell_type": "code",
   "execution_count": null,
   "metadata": {},
   "outputs": [],
   "source": [
    "solve!(velocity_prob; max_iter=200)\n",
    "println(\"\\nInfidelity: \", 1 - unitary_fidelity(velocity_prob))"
   ]
  },
  {
   "cell_type": "code",
   "execution_count": null,
   "metadata": {},
   "outputs": [],
   "source": [
    "f = Figure(resolution = (800, 400))\n",
    "colors = (:blue, :red)\n",
    "ax = f[1, 1] = Axis(f, xlabel = \"Time\", ylabel = \"Control amplitude\", title=\"Control\")\n",
    "\n",
    "for (i, row) in enumerate(eachrow(velocity_prob.trajectory[:a]))\n",
    "    lines!(ax, Δt .* (1:T), row, color=colors[i], linewidth=3, label=\"Control $(i == 1 ? \"X\" : \"Y\")\")\n",
    "    band!(ax, Δt .* (1:T), zeros(size(row)), row, color=(colors[i], 0.1))\n",
    "end\n",
    "Legend(f[1,2], ax)\n",
    "f"
   ]
  },
  {
   "cell_type": "code",
   "execution_count": null,
   "metadata": {},
   "outputs": [],
   "source": [
    "f = Figure(resolution = (900, 400))\n",
    "colors = (:blue, :red)\n",
    "\n",
    "for (col, problem) in enumerate([prob, velocity_prob])\n",
    "    ax = f[1, col] = Axis(f, xlabel = \"Time\", ylabel = \"Control amplitude\", title=\"Velocity $(col == 1 ? \"Smooth\" : \"L1\")\")\n",
    "    for (i, row) in enumerate(eachrow(problem.trajectory[:da]))\n",
    "        lines!(ax, Δt .* (1:T), row, color=colors[i], linewidth=3, label=\"Control $(i == 1 ? \"X\" : \"Y\")\")\n",
    "        band!(ax, Δt .* (1:T), zeros(size(row)), row, color=(colors[i], 0.1))\n",
    "    end\n",
    "    Legend(f[1, 3], ax)\n",
    "end\n",
    "f"
   ]
  },
  {
   "cell_type": "code",
   "execution_count": null,
   "metadata": {},
   "outputs": [],
   "source": []
  }
 ],
 "metadata": {
  "kernelspec": {
   "display_name": "Julia 1.10.0",
   "language": "julia",
   "name": "julia-1.10"
  },
  "language_info": {
   "file_extension": ".jl",
   "mimetype": "application/julia",
   "name": "julia",
   "version": "1.10.0"
  }
 },
 "nbformat": 4,
 "nbformat_minor": 2
}
